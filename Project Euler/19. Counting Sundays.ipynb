{
 "cells": [
  {
   "cell_type": "code",
   "execution_count": 3,
   "metadata": {},
   "outputs": [],
   "source": [
    "monthDaysCount = [[31, 28, 31, 30, 31, 30, 31, 31, 30, 31, 30, 31],\r\n",
    "                  [31, 29, 31, 30, 31, 30, 31, 31, 30, 31, 30, 31]]\r\n"
   ]
  },
  {
   "cell_type": "markdown",
   "metadata": {},
   "source": [
    "Since Jan 1st 1900 is Monday (1), Jan 1st 1901 is Tuesday (2). Hence startDay is 2"
   ]
  },
  {
   "cell_type": "code",
   "execution_count": 39,
   "metadata": {},
   "outputs": [
    {
     "name": "stdout",
     "output_type": "stream",
     "text": [
      "171 months start from sunday during the years 1901 and 2000\n"
     ]
    }
   ],
   "source": [
    "startYear, endYear = 1901, 2000\r\n",
    "startDay = 2\r\n",
    "numMonthsFromSunday = 0\r\n",
    "for y in range(startYear, endYear + 1):\r\n",
    "    isLeapYear = 1 if (y % 4 == 0 and y % 400 != 0) else 0\r\n",
    "    for m in range(12):\r\n",
    "        startDay = (startDay + monthDaysCount[isLeapYear][m]) % 7\r\n",
    "        numMonthsFromSunday += 1 if startDay == 0 else 0\r\n",
    "        # print(f'{m} {startDay}')\r\n",
    "numMonthsFromSunday -= 1 if startDay == 0 else 0\r\n",
    "\r\n",
    "print(f'{numMonthsFromSunday} months start from sunday during the years {startYear} and {endYear}')"
   ]
  }
 ],
 "metadata": {
  "kernelspec": {
   "display_name": "Python 3.8.3 64-bit",
   "name": "python383jvsc74a57bd0b5185cc0f701787af5562c96e4d47630ffd475b4e7f41080e98c737816d28fe6"
  },
  "language_info": {
   "codemirror_mode": {
    "name": "ipython",
    "version": 3
   },
   "file_extension": ".py",
   "mimetype": "text/x-python",
   "name": "python",
   "nbconvert_exporter": "python",
   "pygments_lexer": "ipython3",
   "version": "3.8.3"
  },
  "metadata": {
   "interpreter": {
    "hash": "b5185cc0f701787af5562c96e4d47630ffd475b4e7f41080e98c737816d28fe6"
   }
  },
  "orig_nbformat": 2
 },
 "nbformat": 4,
 "nbformat_minor": 2
}