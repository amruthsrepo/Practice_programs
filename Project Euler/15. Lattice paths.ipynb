{
 "cells": [
  {
   "cell_type": "code",
   "execution_count": 17,
   "metadata": {},
   "outputs": [],
   "source": [
    "def calcPathsEfficient(squareSize: int = 2):\r\n",
    "    if squareSize == 1:\r\n",
    "        return 2\r\n",
    "    else:\r\n",
    "        squaresAdded = (squareSize*2)-1\r\n",
    "        newPaths = 2\r\n",
    "        for i in range(1, squareSize):\r\n",
    "            newPaths = int((2*((2*i)-1)*newPaths)/(i+1)) # yet to discover why this works, related to Pascal's triangle and nCr\r\n",
    "        return squaresAdded * newPaths\r\n"
   ]
  },
  {
   "cell_type": "code",
   "execution_count": 22,
   "metadata": {},
   "outputs": [
    {
     "data": {
      "text/plain": "137846528820"
     },
     "execution_count": 22,
     "metadata": {},
     "output_type": "execute_result"
    }
   ],
   "source": [
    "calcPathsEfficient(20)"
   ]
  },
  {
   "cell_type": "code",
   "execution_count": 1,
   "metadata": {},
   "outputs": [],
   "source": [
    "def calcPaths(i: int = 0, j: int = 1, end: int = 2) -> int:\r\n",
    "    if i == end and j == end:\r\n",
    "        return 2\r\n",
    "    if i != end and j != end:\r\n",
    "        return calcPaths(i + 1, j, end) + calcPaths(i, j + 1, end)\r\n",
    "    if i == end:\r\n",
    "        return calcPaths(i, j + 1, end)\r\n",
    "    if j == end:\r\n",
    "        return calcPaths(i + 1, j, end)\r\n"
   ]
  },
  {
   "cell_type": "code",
   "execution_count": 4,
   "metadata": {},
   "outputs": [
    {
     "name": "stdout",
     "output_type": "stream",
     "text": [
      "Total paths for a square of 15 sides is 155117520\n"
     ]
    }
   ],
   "source": [
    "squareSide = 15\r\n",
    "numPaths = calcPaths(end=squareSide)\r\n",
    "print(f'Total paths for a square of {squareSide} sides is {numPaths}')\r\n"
   ]
  },
  {
   "cell_type": "code",
   "execution_count": 23,
   "metadata": {},
   "outputs": [
    {
     "name": "stdout",
     "output_type": "stream",
     "text": [
      "i\ti^2\tnumPaths\tinumPaths\tincrBlocks\n",
      "1\t1\t2\t\t2\t\t1\t\t2\t2\n",
      "2\t4\t6\t\t6\t\t3\t\t2\t2\n",
      "3\t9\t20\t\t20\t\t5\t\t4\t4\n",
      "4\t16\t70\t\t70\t\t7\t\t10\t10\n",
      "5\t25\t252\t\t252\t\t9\t\t28\t28\n",
      "6\t36\t924\t\t924\t\t11\t\t84\t84\n",
      "7\t49\t3432\t\t3432\t\t13\t\t264\t264\n",
      "8\t64\t12870\t\t12870\t\t15\t\t858\t858\n",
      "9\t81\t48620\t\t48620\t\t17\t\t2860\t2860\n",
      "10\t100\t184756\t\t184756\t\t19\t\t9724\t9724\n"
     ]
    }
   ],
   "source": [
    "print('i\\ti^2\\tnumPaths\\tinumPaths\\tincrBlocks')\r\n",
    "an = 2\r\n",
    "for i in range(1, 11):\r\n",
    "    numPaths = calcPaths(0, 1, i)\r\n",
    "    print(f'{i}\\t{i**2}\\t{numPaths}\\t\\t{an*((2*i)-1)}\\t\\t{(2*i)-1}\\t\\t{int(numPaths/((2*i)-1))}\\t{an}')\r\n",
    "    an = int((2*((2*i)-1)*an)/(i+1))\r\n"
   ]
  },
  {
   "cell_type": "code",
   "execution_count": 21,
   "metadata": {},
   "outputs": [
    {
     "data": {
      "text/plain": "2.0"
     },
     "execution_count": 21,
     "metadata": {},
     "output_type": "execute_result"
    }
   ],
   "source": [
    "i,newPaths=1,2\r\n",
    "(2*((2*i)-1)*newPaths)/(i+1)"
   ]
  },
  {
   "cell_type": "code",
   "execution_count": null,
   "metadata": {},
   "outputs": [],
   "source": [
    "numPaths = 0\r\n",
    "for i in range(1, squareSide + 1):\r\n",
    "    numPaths += (2 ** i)\r\n",
    "print(f'Total paths for a square of {squareSide} sides is {numPaths}')"
   ]
  }
 ],
 "metadata": {
  "kernelspec": {
   "display_name": "Python 3.8.3 64-bit",
   "name": "python383jvsc74a57bd0b5185cc0f701787af5562c96e4d47630ffd475b4e7f41080e98c737816d28fe6"
  },
  "language_info": {
   "codemirror_mode": {
    "name": "ipython",
    "version": 3
   },
   "file_extension": ".py",
   "mimetype": "text/x-python",
   "name": "python",
   "nbconvert_exporter": "python",
   "pygments_lexer": "ipython3",
   "version": "3.8.3"
  },
  "metadata": {
   "interpreter": {
    "hash": "b5185cc0f701787af5562c96e4d47630ffd475b4e7f41080e98c737816d28fe6"
   }
  },
  "orig_nbformat": 2
 },
 "nbformat": 4,
 "nbformat_minor": 2
}