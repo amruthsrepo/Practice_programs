{
 "cells": [
  {
   "cell_type": "code",
   "execution_count": null,
   "metadata": {},
   "outputs": [],
   "source": [
    "class collatz:\r\n",
    "    def collatz_Calc(self, numsFound: list = [False] * 1000001, longest_sequence: int = 0, longest_sequence_num: int = 1000000):\r\n",
    "        self.numsFound = numsFound\r\n",
    "        self.longest_sequence = longest_sequence\r\n",
    "        self.longest_sequence_num = longest_sequence_num\r\n",
    "        for i in range(1000000, 0, -1):\r\n",
    "            if not self.numsFound[i]:\r\n",
    "                self.numsFound[i]\r\n",
    "                current_num = i\r\n",
    "                sequence_length = 0\r\n",
    "                nums_in_new_sequence = []\r\n",
    "                while current_num > 1:\r\n",
    "                    nums_in_new_sequence += [current_num]\r\n",
    "                    if self.numsFound[current_num]:\r\n",
    "                        break\r\n",
    "                    sequence_length += 1\r\n",
    "                    if current_num % 2 == 0:\r\n",
    "                        current_num /= 2\r\n",
    "                    else:\r\n",
    "                        current_num = (current_num * 3) + 1\r\n",
    "                if sequence_length > self.longest_sequence:\r\n",
    "                    self.longest_sequence = sequence_length\r\n",
    "                    self.longest_sequence_num = i\r\n",
    "                for j in nums_in_new_sequence:\r\n",
    "                    self.numsFound[j] = True\r\n",
    "                print(f'{i}: {sequence_length}, end at {current_num}')\r\n",
    "        print(f'Longest collatz seq exists for {self.longest_sequence_num}')\r\n"
   ]
  },
  {
   "cell_type": "code",
   "execution_count": null,
   "metadata": {},
   "outputs": [],
   "source": [
    "c = collatz()\r\n",
    "c.collatz_Calc()\r\n"
   ]
  },
  {
   "cell_type": "code",
   "execution_count": 2,
   "metadata": {},
   "outputs": [],
   "source": [
    "class collatz_recursion:\r\n",
    "    def __init__(self, found_nums: dict = {}, longest_sequence_len: int = 0, longest_sequence_num: int = 0):\r\n",
    "        found_nums[1] = 1\r\n",
    "        self.found_nums = found_nums\r\n",
    "        self.longest_sequence_len = longest_sequence_len\r\n",
    "        self.longest_sequence_num = longest_sequence_num\r\n",
    "\r\n",
    "    def collatz_Calc_util(self, current_num: int) -> int:\r\n",
    "        if current_num in self.found_nums:\r\n",
    "            return self.found_nums[current_num]\r\n",
    "        elif current_num % 2 == 0:\r\n",
    "            self.found_nums[current_num] = \\\r\n",
    "                self.collatz_Calc_util(current_num/2)\r\n",
    "            return 1 + self.found_nums[current_num]\r\n",
    "        else:\r\n",
    "            self.found_nums[current_num] = \\\r\n",
    "                self.collatz_Calc_util((current_num*3)+1)\r\n",
    "            return 1 + self.found_nums[current_num]\r\n",
    "\r\n",
    "    def collatz_Calc(self):\r\n",
    "        for i in range(1000000, 0, -1):\r\n",
    "            sequence_length = self.collatz_Calc_util(i)\r\n",
    "            if sequence_length > self.longest_sequence_len:\r\n",
    "                self.longest_sequence_len = sequence_length\r\n",
    "                self.longest_sequence_num = i\r\n",
    "                print(f'{i}:{sequence_length}')\r\n"
   ]
  },
  {
   "cell_type": "code",
   "execution_count": 6,
   "metadata": {},
   "outputs": [
    {
     "name": "stdout",
     "output_type": "stream",
     "text": [
      "1000000:153\n",
      "999999:258\n",
      "999667:289\n",
      "999295:394\n",
      "997823:437\n",
      "970599:447\n",
      "939497:501\n",
      "837799:514\n",
      "Stored 'stored_found_nums' (dict)\n"
     ]
    }
   ],
   "source": [
    "%store -r stored_found_nums\r\n",
    "stored_found_nums = {}\r\n",
    "cr = collatz_recursion(found_nums=stored_found_nums)\r\n",
    "cr.collatz_Calc()\r\n",
    "\r\n",
    "stored_found_nums = cr.found_nums\r\n",
    "%store stored_found_nums\r\n"
   ]
  }
 ],
 "metadata": {
  "kernelspec": {
   "display_name": "Python 3.8.3 64-bit",
   "name": "python383jvsc74a57bd0b5185cc0f701787af5562c96e4d47630ffd475b4e7f41080e98c737816d28fe6"
  },
  "language_info": {
   "codemirror_mode": {
    "name": "ipython",
    "version": 3
   },
   "file_extension": ".py",
   "mimetype": "text/x-python",
   "name": "python",
   "nbconvert_exporter": "python",
   "pygments_lexer": "ipython3",
   "version": "3.8.3"
  },
  "metadata": {
   "interpreter": {
    "hash": "b5185cc0f701787af5562c96e4d47630ffd475b4e7f41080e98c737816d28fe6"
   }
  },
  "orig_nbformat": 2
 },
 "nbformat": 4,
 "nbformat_minor": 2
}